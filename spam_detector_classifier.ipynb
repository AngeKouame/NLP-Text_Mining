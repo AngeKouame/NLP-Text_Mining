{
 "cells": [
  {
   "cell_type": "markdown",
   "metadata": {},
   "source": [
    "---\n",
    "\n",
    "_You are currently looking at **version 1.1** of this notebook. To download notebooks and datafiles, as well as get help on Jupyter notebooks in the Coursera platform, visit the [Jupyter Notebook FAQ](https://www.coursera.org/learn/python-text-mining/resources/d9pwm) course resource._\n",
    "\n",
    "---"
   ]
  },
  {
   "cell_type": "markdown",
   "metadata": {},
   "source": [
    "# Assignment 3\n",
    "\n",
    "In this assignment you will explore text message data and create models to predict if a message is spam or not. "
   ]
  },
  {
   "cell_type": "code",
   "execution_count": null,
   "metadata": {},
   "outputs": [],
   "source": [
    "import pandas as pd\n",
    "import numpy as np\n",
    "\n",
    "spam_data = pd.read_csv('spam.csv')\n",
    "\n",
    "spam_data['target'] = np.where(spam_data['target']=='spam',1,0)\n",
    "spam_data.head(10)"
   ]
  },
  {
   "cell_type": "code",
   "execution_count": null,
   "metadata": {},
   "outputs": [],
   "source": [
    "from sklearn.model_selection import train_test_split\n",
    "\n",
    "\n",
    "X_train, X_test, y_train, y_test = train_test_split(spam_data['text'], \n",
    "                                                    spam_data['target'], \n",
    "                                                    random_state=0)"
   ]
  },
  {
   "cell_type": "markdown",
   "metadata": {},
   "source": [
    "### Question 1\n",
    "What percentage of the documents in `spam_data` are spam?\n",
    "\n",
    "*This function should return a float, the percent value (i.e. $ratio * 100$).*"
   ]
  },
  {
   "cell_type": "code",
   "execution_count": null,
   "metadata": {},
   "outputs": [],
   "source": [
    "def answer_one():\n",
    "    return 100*(len(spam_data[spam_data['target']==1])/len(spam_data))"
   ]
  },
  {
   "cell_type": "code",
   "execution_count": null,
   "metadata": {},
   "outputs": [],
   "source": [
    "answer_one()"
   ]
  },
  {
   "cell_type": "markdown",
   "metadata": {},
   "source": [
    "### Question 2\n",
    "\n",
    "Fit the training data `X_train` using a Count Vectorizer with default parameters.\n",
    "\n",
    "What is the longest token in the vocabulary?\n",
    "\n",
    "*This function should return a string.*"
   ]
  },
  {
   "cell_type": "code",
   "execution_count": null,
   "metadata": {},
   "outputs": [],
   "source": [
    "from sklearn.feature_extraction.text import CountVectorizer\n",
    "\n",
    "def answer_two():\n",
    "    vec = CountVectorizer().fit(X_train)\n",
    "    names = sorted(vec.get_feature_names(), key=lambda x:len(x), reverse=True)\n",
    "    \n",
    "    return names[0]"
   ]
  },
  {
   "cell_type": "code",
   "execution_count": null,
   "metadata": {},
   "outputs": [],
   "source": [
    "answer_two()"
   ]
  },
  {
   "cell_type": "markdown",
   "metadata": {},
   "source": [
    "### Question 3\n",
    "\n",
    "Fit and transform the training data `X_train` using a Count Vectorizer with default parameters.\n",
    "\n",
    "Next, fit a fit a multinomial Naive Bayes classifier model with smoothing `alpha=0.1`. Find the area under the curve (AUC) score using the transformed test data.\n",
    "\n",
    "*This function should return the AUC score as a float.*"
   ]
  },
  {
   "cell_type": "code",
   "execution_count": null,
   "metadata": {},
   "outputs": [],
   "source": [
    "from sklearn.naive_bayes import MultinomialNB\n",
    "from sklearn.metrics import roc_auc_score\n",
    "\n",
    "vect = CountVectorizer().fit(X_train)\n",
    "X_train_vectorized = vect.fit_transform(X_train)\n",
    "model = MultinomialNB(alpha=0.1)\n",
    "model.fit(X_train_vectorized, y_train)\n",
    "predictions = model.predict(vect.transform(X_test))\n",
    "def answer_three():\n",
    "    return roc_auc_score(y_test, predictions, average='micro')\n"
   ]
  },
  {
   "cell_type": "code",
   "execution_count": null,
   "metadata": {},
   "outputs": [],
   "source": [
    "answer_three()"
   ]
  },
  {
   "cell_type": "markdown",
   "metadata": {},
   "source": [
    "### Question 4\n",
    "\n",
    "Fit and transform the training data `X_train` using a Tfidf Vectorizer with default parameters.\n",
    "\n",
    "What 20 features have the smallest tf-idf and what 20 have the largest tf-idf?\n",
    "\n",
    "Put these features in a two series where each series is sorted by tf-idf value and then alphabetically by feature name. The index of the series should be the feature name, and the data should be the tf-idf.\n",
    "\n",
    "The series of 20 features with smallest tf-idfs should be sorted smallest tfidf first, the list of 20 features with largest tf-idfs should be sorted largest first. \n",
    "\n",
    "*This function should return a tuple of two series\n",
    "`(smallest tf-idfs series, largest tf-idfs series)`.*"
   ]
  },
  {
   "cell_type": "code",
   "execution_count": null,
   "metadata": {},
   "outputs": [],
   "source": [
    "from sklearn.feature_extraction.text import TfidfVectorizer\n",
    "vector = TfidfVectorizer().fit(X_train)\n",
    "vect_features = vector.transform(X_train)\n",
    "names = np.asarray(vector.get_feature_names())\n",
    "values = vect_features.max(0).toarray()[0]\n",
    "index = vect_features.max(0).toarray()[0].argsort()\n",
    "smallest = pd.Series(values[index[:20]], index=names[index[:20]])\n",
    "smallest.sort_index(inplace=True)\n",
    "\n",
    "highest = pd.Series(values[index[-20:]], index=names[index[-20:]])\n",
    "highest.sort_index(inplace=True)\n",
    "def answer_four():\n",
    "    return (smallest, highest)"
   ]
  },
  {
   "cell_type": "code",
   "execution_count": null,
   "metadata": {},
   "outputs": [],
   "source": [
    "answer_four()"
   ]
  },
  {
   "cell_type": "markdown",
   "metadata": {},
   "source": [
    "### Question 5\n",
    "\n",
    "Fit and transform the training data `X_train` using a Tfidf Vectorizer ignoring terms that have a document frequency strictly lower than **3**.\n",
    "\n",
    "Then fit a multinomial Naive Bayes classifier model with smoothing `alpha=0.1` and compute the area under the curve (AUC) score using the transformed test data.\n",
    "\n",
    "*This function should return the AUC score as a float.*"
   ]
  },
  {
   "cell_type": "code",
   "execution_count": null,
   "metadata": {},
   "outputs": [],
   "source": [
    "vector = TfidfVectorizer(min_df=3).fit(X_train)\n",
    "X_test_vectorized = vector.transform(X_test)\n",
    "X_train_vectorized = vector.transform(X_train)\n",
    "model = MultinomialNB(alpha=0.1)\n",
    "model.fit(X_train_vectorized, y_train)\n",
    "predictions = model.predict(X_test_vectorized)  \n",
    "def answer_five():   \n",
    "    return roc_auc_score(y_test, predictions, average='micro')\n"
   ]
  },
  {
   "cell_type": "code",
   "execution_count": null,
   "metadata": {},
   "outputs": [],
   "source": [
    "answer_five()"
   ]
  },
  {
   "cell_type": "markdown",
   "metadata": {},
   "source": [
    "### Question 6\n",
    "\n",
    "What is the average length of documents (number of characters) for not spam and spam documents?\n",
    "\n",
    "*This function should return a tuple (average length not spam, average length spam).*"
   ]
  },
  {
   "cell_type": "code",
   "execution_count": null,
   "metadata": {},
   "outputs": [],
   "source": [
    "import nltk\n",
    "from nltk import word_tokenize\n",
    "nltk.download('punkt')\n",
    "spam_data['taille'] = spam_data['text'].map(lambda x:len(x))\n",
    "def answer_six():\n",
    "    no_spam = spam_data[spam_data['target']==0]['taille'].mean()\n",
    "    spam = spam_data[spam_data['target']==1]['taille'].mean()\n",
    "    \n",
    "    return (no_spam, spam)"
   ]
  },
  {
   "cell_type": "code",
   "execution_count": null,
   "metadata": {},
   "outputs": [],
   "source": [
    "answer_six()"
   ]
  },
  {
   "cell_type": "markdown",
   "metadata": {},
   "source": [
    "<br>\n",
    "<br>\n",
    "The following function has been provided to help you combine new features into the training data:"
   ]
  },
  {
   "cell_type": "code",
   "execution_count": null,
   "metadata": {},
   "outputs": [],
   "source": [
    "def add_feature(X, feature_to_add):\n",
    "    \"\"\"\n",
    "    Returns sparse feature matrix with added feature.\n",
    "    feature_to_add can also be a list of features.\n",
    "    \"\"\"\n",
    "    from scipy.sparse import csr_matrix, hstack\n",
    "    return hstack([X, csr_matrix(feature_to_add).T], 'csr')"
   ]
  },
  {
   "cell_type": "markdown",
   "metadata": {},
   "source": [
    "### Question 7\n",
    "\n",
    "Fit and transform the training data X_train using a Tfidf Vectorizer ignoring terms that have a document frequency strictly lower than **5**.\n",
    "\n",
    "Using this document-term matrix and an additional feature, **the length of document (number of characters)**, fit a Support Vector Classification model with regularization `C=10000`. Then compute the area under the curve (AUC) score using the transformed test data.\n",
    "\n",
    "*This function should return the AUC score as a float.*"
   ]
  },
  {
   "cell_type": "code",
   "execution_count": null,
   "metadata": {},
   "outputs": [],
   "source": [
    "from sklearn.svm import SVC\n",
    "model = SVC(C=10000)\n",
    "\n",
    "X_train_vectorized = vector_ter.transform(X_train)\n",
    "X_train_frame = pd.DataFrame(X_train, columns=['text'])\n",
    "taille_X_train = X_train_frame['text'].map(lambda x:len(word_tokenize(x))).values\n",
    "X_vectorized = add_feature(X_train_vectorized, taille_X_train)\n",
    "\n",
    "\n",
    "X_test_vecto = vector_ter.transform(X_test)\n",
    "X_test_frame = pd.DataFrame(X_test, columns=['text'])\n",
    "taille_X_test = X_test_frame['text'].map(lambda x:len(word_tokenize(x))).values\n",
    "X_test_vecto = add_feature(X_test_vecto, taille_X_test)\n",
    "\n",
    "\n",
    "model.fit(X_vectorized, y_train)\n",
    "prediction = model.predict(X_test_vecto)\n",
    "def answer_seven():\n",
    "    return roc_auc_score(y_test, prediction, average='micro')\n"
   ]
  },
  {
   "cell_type": "code",
   "execution_count": null,
   "metadata": {},
   "outputs": [],
   "source": [
    "answer_seven()"
   ]
  },
  {
   "cell_type": "markdown",
   "metadata": {},
   "source": [
    "### Question 8\n",
    "\n",
    "What is the average number of digits per document for not spam and spam documents?\n",
    "\n",
    "*This function should return a tuple (average # digits not spam, average # digits spam).*"
   ]
  },
  {
   "cell_type": "code",
   "execution_count": null,
   "metadata": {},
   "outputs": [],
   "source": [
    "import re\n",
    "re_exp = re.compile('\\d')\n",
    "def compute_digit(text):\n",
    "    result = re_exp.findall(text)\n",
    "    if len(result)==0:\n",
    "        return 0\n",
    "    else:\n",
    "        return len(result)\n",
    "\n",
    "spam_data['number_digit'] = spam_data['text'].map(compute_digit)"
   ]
  },
  {
   "cell_type": "code",
   "execution_count": null,
   "metadata": {},
   "outputs": [],
   "source": [
    "def answer_eight(): \n",
    "    no_spam = spam_data[spam_data['target']==0]['number_digit'].mean()\n",
    "    spam = spam_data[spam_data['target']==1]['number_digit'].mean()\n",
    "    \n",
    "    return (no_spam, spam)"
   ]
  },
  {
   "cell_type": "code",
   "execution_count": null,
   "metadata": {},
   "outputs": [],
   "source": [
    "answer_eight()"
   ]
  },
  {
   "cell_type": "markdown",
   "metadata": {},
   "source": [
    "### Question 9\n",
    "\n",
    "Fit and transform the training data `X_train` using a Tfidf Vectorizer ignoring terms that have a document frequency strictly lower than **5** and using **word n-grams from n=1 to n=3** (unigrams, bigrams, and trigrams).\n",
    "\n",
    "Using this document-term matrix and the following additional features:\n",
    "* the length of document (number of characters)\n",
    "* **number of digits per document**\n",
    "\n",
    "fit a Logistic Regression model with regularization `C=100`. Then compute the area under the curve (AUC) score using the transformed test data.\n",
    "\n",
    "*This function should return the AUC score as a float.*"
   ]
  },
  {
   "cell_type": "code",
   "execution_count": null,
   "metadata": {},
   "outputs": [],
   "source": [
    "from sklearn.linear_model import LogisticRegression\n",
    "model = LogisticRegression(C=100)\n",
    "\n",
    "vector_ter = TfidfVectorizer(min_df=5, ngram_range=(1,3)).fit(X_train)\n",
    "\n",
    "X_train_vectorized = vector_ter.transform(X_train)\n",
    "X_train_frame = pd.DataFrame(X_train, columns=['text'])\n",
    "taille_X_train = X_train_frame['text'].map(lambda x:len(word_tokenize(x))).values\n",
    "digit_X_train = X_train_frame['text'].map(compute_digit).values\n",
    "X_vectorized = add_feature(X_train_vectorized, taille_X_train)\n",
    "X_vectorized = add_feature(X_vectorized, digit_X_train)\n",
    "\n",
    "X_test_vecto = vector_ter.transform(X_test)\n",
    "X_test_frame = pd.DataFrame(X_test, columns=['text'])\n",
    "taille_X_test = X_test_frame['text'].map(lambda x:len(word_tokenize(x))).values\n",
    "digit_X_test = X_test_frame['text'].map(compute_digit).values\n",
    "X_test_vecto = add_feature(X_test_vecto, taille_X_test)\n",
    "X_test_vecto = add_feature(X_test_vecto, digit_X_test)\n",
    "\n",
    "model.fit(X_vectorized, y_train)\n",
    "prediction = model.predict(X_test_vecto)\n",
    "def answer_nine():\n",
    "      \n",
    "    return roc_auc_score(y_test, prediction, average='micro')\n"
   ]
  },
  {
   "cell_type": "code",
   "execution_count": null,
   "metadata": {},
   "outputs": [],
   "source": [
    "answer_nine()"
   ]
  },
  {
   "cell_type": "markdown",
   "metadata": {},
   "source": [
    "### Question 10\n",
    "\n",
    "What is the average number of non-word characters (anything other than a letter, digit or underscore) per document for not spam and spam documents?\n",
    "\n",
    "*Hint: Use `\\w` and `\\W` character classes*\n",
    "\n",
    "*This function should return a tuple (average # non-word characters not spam, average # non-word characters spam).*"
   ]
  },
  {
   "cell_type": "code",
   "execution_count": null,
   "metadata": {},
   "outputs": [],
   "source": [
    "re_exp = re.compile('\\W')\n",
    "def compute_non_digit(text):\n",
    "    result = re_exp.findall(text)\n",
    "    if len(result)==0:\n",
    "        return 0\n",
    "    else:\n",
    "        return len(result)\n",
    "\n",
    "spam_data['no_digit'] = spam_data['text'].map(compute_non_digit)\n",
    "def answer_ten():\n",
    "    no_spam = spam_data[spam_data['target']==0]['no_digit'].mean()\n",
    "    spam = spam_data[spam_data['target']==1]['no_digit'].mean()\n",
    "    \n",
    "    return (no_spam, spam)"
   ]
  },
  {
   "cell_type": "code",
   "execution_count": null,
   "metadata": {},
   "outputs": [],
   "source": [
    "answer_ten()"
   ]
  },
  {
   "cell_type": "markdown",
   "metadata": {},
   "source": [
    "### Question 11\n",
    "\n",
    "Fit and transform the training data X_train using a Count Vectorizer ignoring terms that have a document frequency strictly lower than **5** and using **character n-grams from n=2 to n=5.**\n",
    "\n",
    "To tell Count Vectorizer to use character n-grams pass in `analyzer='char_wb'` which creates character n-grams only from text inside word boundaries. This should make the model more robust to spelling mistakes.\n",
    "\n",
    "Using this document-term matrix and the following additional features:\n",
    "* the length of document (number of characters)\n",
    "* number of digits per document\n",
    "* **number of non-word characters (anything other than a letter, digit or underscore.)**\n",
    "\n",
    "fit a Logistic Regression model with regularization C=100. Then compute the area under the curve (AUC) score using the transformed test data.\n",
    "\n",
    "Also **find the 10 smallest and 10 largest coefficients from the model** and return them along with the AUC score in a tuple.\n",
    "\n",
    "The list of 10 smallest coefficients should be sorted smallest first, the list of 10 largest coefficients should be sorted largest first.\n",
    "\n",
    "The three features that were added to the document term matrix should have the following names should they appear in the list of coefficients:\n",
    "['length_of_doc', 'digit_count', 'non_word_char_count']\n",
    "\n",
    "*This function should return a tuple `(AUC score as a float, smallest coefs list, largest coefs list)`.*"
   ]
  },
  {
   "cell_type": "code",
   "execution_count": null,
   "metadata": {},
   "outputs": [],
   "source": [
    "model = LogisticRegression(C=100)\n",
    "\n",
    "vector = TfidfVectorizer(min_df=5, ngram_range=(2,5)).fit(X_train)\n",
    "\n",
    "X_train_vectorized = vector.transform(X_train)\n",
    "X_train_frame = pd.DataFrame(X_train, columns=['text'])\n",
    "taille_X_train = X_train_frame['text'].map(lambda x:len(word_tokenize(x))).values\n",
    "digit_X_train = X_train_frame['text'].map(compute_digit).values\n",
    "no_digit_X_train = X_train_frame['text'].map(compute_non_digit).values\n",
    "X_vectorized = add_feature(X_train_vectorized, taille_X_train)\n",
    "X_vectorized = add_feature(X_vectorized, digit_X_train)\n",
    "X_vectorized = add_feature(X_vectorized, no_digit_X_train)\n",
    "\n",
    "X_test_vecto = vector.transform(X_test)\n",
    "X_test_frame = pd.DataFrame(X_test, columns=['text'])\n",
    "taille_X_test = X_test_frame['text'].map(lambda x:len(word_tokenize(x))).values\n",
    "digit_X_test = X_test_frame['text'].map(compute_digit).values\n",
    "no_digit_X_test = X_test_frame['text'].map(compute_non_digit).values\n",
    "X_test_vecto = add_feature(X_test_vecto, taille_X_test)\n",
    "X_test_vecto = add_feature(X_test_vecto, digit_X_test)\n",
    "X_test_vecto = add_feature(X_test_vecto, no_digit_X_test)\n",
    "\n",
    "model.fit(X_vectorized, y_train)\n",
    "prediction = model.predict(X_test_vecto)\n",
    "\n",
    "features = vector.get_feature_names()+ ['length_of_doc', 'digit_count', 'non_word_char_count']\n",
    "features = np.asarray(features)\n",
    "importance = model.coef_[0].argsort()\n",
    "def answer_eleven():\n",
    "\n",
    "    return (roc_auc_score(y_test, prediction, average='micro'), features[importance[:20]], features[importance[-20:]])"
   ]
  },
  {
   "cell_type": "code",
   "execution_count": null,
   "metadata": {},
   "outputs": [],
   "source": [
    "answer_eleven()"
   ]
  }
 ],
 "metadata": {
  "coursera": {
   "course_slug": "python-text-mining",
   "graded_item_id": "Pn19K",
   "launcher_item_id": "y1juS",
   "part_id": "ctlgo"
  },
  "kernelspec": {
   "display_name": "Python 3",
   "language": "python",
   "name": "python3"
  },
  "language_info": {
   "codemirror_mode": {
    "name": "ipython",
    "version": 3
   },
   "file_extension": ".py",
   "mimetype": "text/x-python",
   "name": "python",
   "nbconvert_exporter": "python",
   "pygments_lexer": "ipython3",
   "version": "3.6.9"
  }
 },
 "nbformat": 4,
 "nbformat_minor": 2
}
