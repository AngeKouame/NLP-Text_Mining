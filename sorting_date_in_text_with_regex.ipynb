{
 "cells": [
  {
   "cell_type": "markdown",
   "metadata": {},
   "source": [
    "\n",
    "Each line of the `dates.txt` file corresponds to a medical note. Each note has a date that needs to be extracted, but each date is encoded in one of many formats.\n",
    "\n",
    "The goal of this assignment is to correctly identify all of the different date variants encoded in this dataset and to properly normalize and sort the dates. \n",
    "\n",
    "Here is a list of some of the variants you might encounter in this dataset:\n",
    "* 04/20/2009; 04/20/09; 4/20/09; 4/3/09\n",
    "* Mar-20-2009; Mar 20, 2009; March 20, 2009;  Mar. 20, 2009; Mar 20 2009;\n",
    "* 20 Mar 2009; 20 March 2009; 20 Mar. 2009; 20 March, 2009\n",
    "* Mar 20th, 2009; Mar 21st, 2009; Mar 22nd, 2009\n",
    "* Feb 2009; Sep 2009; Oct 2010\n",
    "* 6/2008; 12/2009\n",
    "* 2009; 2010\n",
    "\n",
    "Once you have extracted these date patterns from the text, the next step is to sort them in ascending chronological order accoring to the following rules:\n",
    "* Assume all dates in xx/xx/xx format are mm/dd/yy\n",
    "* Assume all dates where year is encoded in only two digits are years from the 1900's (e.g. 1/5/89 is January 5th, 1989)\n",
    "* If the day is missing (e.g. 9/2009), assume it is the first day of the month (e.g. September 1, 2009).\n",
    "* If the month is missing (e.g. 2010), assume it is the first of January of that year (e.g. January 1, 2010).\n",
    "* Watch out for potential typos as this is a raw, real-life derived dataset.\n",
    "\n",
    "With these rules in mind, find the correct date in each note and return a pandas Series in chronological order of the original Series' indices.\n",
    "\n",
    "For example if the original series was this:\n",
    "\n",
    "    0    1999\n",
    "    1    2010\n",
    "    2    1978\n",
    "    3    2015\n",
    "    4    1985\n",
    "\n",
    "Your function should return this:\n",
    "\n",
    "    0    2\n",
    "    1    4\n",
    "    2    0\n",
    "    3    1\n",
    "    4    3\n",
    "\n",
    "Your score will be calculated using [Kendall's tau](https://en.wikipedia.org/wiki/Kendall_rank_correlation_coefficient), a correlation measure for ordinal data.\n",
    "\n",
    "*This function should return a Series of length 500 and dtype int.*"
   ]
  },
  {
   "cell_type": "code",
   "execution_count": 1,
   "metadata": {
    "scrolled": true
   },
   "outputs": [],
   "source": [
    "import pandas as pd\n",
    "import re\n",
    "import numpy as np\n",
    "\n",
    "doc = []\n",
    "with open('dates.txt') as file:\n",
    "    for line in file:\n",
    "        doc.append(line)\n",
    "\n",
    "global df\n",
    "df = pd.DataFrame(doc, columns=['text'])\n"
   ]
  },
  {
   "cell_type": "code",
   "execution_count": 2,
   "metadata": {},
   "outputs": [],
   "source": [
    "\n",
    "def correctif(val):\n",
    "    if isinstance(val,str):\n",
    "        if 'Jan' in val:\n",
    "            return re.sub(r'(Jan\\w+)', 'Jan',val)\n",
    "        elif 'Feb' in val:\n",
    "            return re.sub(r'(Feb\\w+)', 'Feb',val)\n",
    "        elif 'Mar' in val:\n",
    "            return re.sub(r'(Mar\\w+)', 'Mar',val)\n",
    "        elif 'Apr' in val:\n",
    "            return re.sub(r'(Apr\\w+)', 'Apr',val)\n",
    "        elif 'May' in val:\n",
    "            return re.sub(r'(May\\w*)', 'May',val)\n",
    "        elif 'June' in val:\n",
    "            return re.sub(r'(Jun\\w*)', 'Jun',val)\n",
    "        elif 'Jul' in val:\n",
    "            return re.sub(r'(Jul\\w+)', 'Jul',val)\n",
    "        elif 'Aug' in val:\n",
    "            return re.sub(r'(Aug\\w+)', 'Aug',val)\n",
    "        elif 'Sep' in val:\n",
    "            return re.sub(r'(Sep\\w+)', 'Sep',val)\n",
    "        elif 'Oct' in val:\n",
    "            return re.sub(r'(Oct\\w+)', 'Oct',val)\n",
    "        elif 'Nov' in val:\n",
    "            return re.sub(r'(Nov\\w+)', 'Nov',val)\n",
    "        elif 'Dec' in val:\n",
    "            return re.sub(r'(Dec\\w+)', 'Dec',val)\n",
    "        else:\n",
    "            return val\n",
    "    else:\n",
    "        return val"
   ]
  },
  {
   "cell_type": "code",
   "execution_count": 3,
   "metadata": {},
   "outputs": [],
   "source": [
    "pattern1 = re.compile(r'(\\d{1,2}/\\d{1,2}/\\d{4}\\b)')\n",
    "pattern2 = re.compile(r'(\\d{1,2}[/|-]\\d{1,2}[/|-]\\d{2}\\b)')\n",
    "pattern3 = re.compile(r'(\\d/\\d/\\d{2}\\b)')\n",
    "pattern4 = re.compile(r'((?:\\d+\\W+)?(?:(?:Jan|Feb|March|Apr|May|Jun|July|Aug|Sep|Oct|Nov|Dec)\\w*)[\\s|-|,|\\.]*\\w+[\\s|-|,|\\s]*\\d+)')\n",
    "pattern5 = re.compile(r'(\\d{1,2}/\\d{4})\\b')\n",
    "pattern6 = re.compile(r'(\\d{4})\\b')\n",
    "pattern_list = [pattern1,pattern2,pattern3,\n",
    "                pattern4,pattern5,pattern6\n",
    "               ]\n",
    "dates = []\n",
    "for text in df['text'].values:\n",
    "    ind = 0\n",
    "    while(len(pattern_list[ind].findall(text))==0):\n",
    "        ind+=1\n",
    "    dates.append(pattern_list[ind].findall(text)[0])\n",
    "        \n",
    "df['dates'] = dates\n",
    "df['dates'] = df['dates'].apply(correctif)\n",
    "df['dates'] = pd.to_datetime(df['dates'], infer_datetime_format=True)\n"
   ]
  },
  {
   "cell_type": "code",
   "execution_count": 6,
   "metadata": {},
   "outputs": [],
   "source": [
    "def date_sorter():\n",
    "    # Your code here\n",
    "    data = df.sort_values(by='dates')\n",
    "    return pd.Series(data.index)"
   ]
  },
  {
   "cell_type": "code",
   "execution_count": 7,
   "metadata": {},
   "outputs": [
    {
     "data": {
      "text/plain": [
       "0        9\n",
       "1       84\n",
       "2        2\n",
       "3       53\n",
       "4       28\n",
       "      ... \n",
       "495    231\n",
       "496    141\n",
       "497    186\n",
       "498    161\n",
       "499    413\n",
       "Length: 500, dtype: int64"
      ]
     },
     "execution_count": 7,
     "metadata": {},
     "output_type": "execute_result"
    }
   ],
   "source": [
    "date_sorter()"
   ]
  },
  {
   "cell_type": "code",
   "execution_count": null,
   "metadata": {},
   "outputs": [],
   "source": []
  }
 ],
 "metadata": {
  "kernelspec": {
   "display_name": "Python 3",
   "language": "python",
   "name": "python3"
  },
  "language_info": {
   "codemirror_mode": {
    "name": "ipython",
    "version": 3
   },
   "file_extension": ".py",
   "mimetype": "text/x-python",
   "name": "python",
   "nbconvert_exporter": "python",
   "pygments_lexer": "ipython3",
   "version": "3.6.9"
  }
 },
 "nbformat": 4,
 "nbformat_minor": 4
}
